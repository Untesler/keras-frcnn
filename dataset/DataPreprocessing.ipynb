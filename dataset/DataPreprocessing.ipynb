{
 "cells": [
  {
   "cell_type": "code",
   "execution_count": 117,
   "metadata": {},
   "outputs": [],
   "source": [
    "import csv\n",
    "from os import listdir\n",
    "from os.path import join, abspath\n",
    "from codecs import open\n",
    "from lxml import etree\n",
    "from typing import List, Union, Tuple, Dict"
   ]
  },
  {
   "cell_type": "code",
   "execution_count": 39,
   "metadata": {},
   "outputs": [],
   "source": [
    "directory = join(abspath('..'), abspath('dataset/Annotations'))"
   ]
  },
  {
   "cell_type": "code",
   "execution_count": 100,
   "metadata": {},
   "outputs": [],
   "source": [
    "limit = -1 # no limit\n",
    "annotations = {}\n",
    "for xmlFile in listdir(directory):\n",
    "    decrease = 1\n",
    "    if limit == 0:\n",
    "        break\n",
    "    elif limit == -1:\n",
    "        decrease = 0\n",
    "    if not xmlFile.endswith('.xml'):\n",
    "        continue\n",
    "    trees = etree.parse(directory + '/' + xmlFile)\n",
    "    annotations[xmlFile[:-4]] = []\n",
    "    for obj in trees.findall('object'):\n",
    "        bdb = obj.find('bndbox')\n",
    "        name = obj.find('name').text\n",
    "        xmin = bdb.find('xmin').text\n",
    "        ymin = bdb.find('ymin').text\n",
    "        xmax = bdb.find('xmax').text\n",
    "        ymax = bdb.find('ymax').text\n",
    "        annotations[xmlFile[:-4]].append((f'dataset/JPEGImages/{xmlFile[:-4]}.jpg', xmin, ymin, xmax, ymax, name))\n",
    "    limit -= decrease"
   ]
  },
  {
   "cell_type": "code",
   "execution_count": 101,
   "metadata": {},
   "outputs": [
    {
     "name": "stdout",
     "output_type": "stream",
     "text": [
      "[('dataset/JPEGImages/00000.jpg', '9', '111', '61', '182', 'white'), ('dataset/JPEGImages/00000.jpg', '95', '138', '143', '197', 'white'), ('dataset/JPEGImages/00000.jpg', '185', '98', '235', '166', 'white'), ('dataset/JPEGImages/00000.jpg', '262', '125', '311', '192', 'white'), ('dataset/JPEGImages/00000.jpg', '334', '89', '382', '156', 'white'), ('dataset/JPEGImages/00000.jpg', '429', '98', '474', '163', 'white'), ('dataset/JPEGImages/00000.jpg', '503', '100', '552', '166', 'white'), ('dataset/JPEGImages/00000.jpg', '588', '115', '637', '177', 'white'), ('dataset/JPEGImages/00000.jpg', '694', '92', '743', '164', 'white'), ('dataset/JPEGImages/00000.jpg', '763', '57', '821', '129', 'white'), ('dataset/JPEGImages/00000.jpg', '827', '71', '869', '129', 'white'), ('dataset/JPEGImages/00000.jpg', '860', '89', '915', '155', 'white'), ('dataset/JPEGImages/00000.jpg', '922', '67', '1001', '155', 'white')]\n"
     ]
    }
   ],
   "source": [
    "print(annotations['00000']) # annotations[image_name]"
   ]
  },
  {
   "cell_type": "code",
   "execution_count": 115,
   "metadata": {},
   "outputs": [],
   "source": [
    "def splitAnnotations(annotations:dict, ratio:float = 0.7) -> Tuple[dict, dict]:\n",
    "    limit = int(len(annotations) * ratio)\n",
    "    train_dict = {}\n",
    "    test_dict = {}\n",
    "    for id in annotations:\n",
    "        if limit > 0:\n",
    "            train_dict[id] = annotations[id]\n",
    "            limit -= 1\n",
    "        else:\n",
    "            test_dict[id] = annotations[id]\n",
    "    return train_dict, test_dict\n",
    "def saveCsv(filename:str, data:dict) -> None:\n",
    "    with open(f'{filename}.csv', 'w', 'utf-8-sig') as f:\n",
    "        csv_out = csv.writer(f)\n",
    "        csv_out.writerow(['file_path','x_min', 'y_min', 'x_max', 'y_max', 'class'])\n",
    "        for id in data:\n",
    "            for row in data[id]:\n",
    "                csv_out.writerow(row)\n",
    "def saveTxt(filename:str, data:dict) -> None:\n",
    "    with open(f'{filename}.txt', 'w', 'utf-8-sig') as f:\n",
    "        for id in data:\n",
    "            for line in data[id]:\n",
    "                f.write(','.join(line))\n",
    "                f.write('\\n')"
   ]
  },
  {
   "cell_type": "code",
   "execution_count": 116,
   "metadata": {},
   "outputs": [],
   "source": [
    "train, test = splitAnnotations(annotations, ratio=0.7)\n",
    "saveCsv('train_data', train)\n",
    "saveCsv('test_data', test)\n",
    "saveTxt('train_data', train)\n",
    "saveTxt('test_data', test)"
   ]
  }
 ],
 "metadata": {
  "kernelspec": {
   "display_name": "Python 3",
   "language": "python",
   "name": "python3"
  },
  "language_info": {
   "codemirror_mode": {
    "name": "ipython",
    "version": 3
   },
   "file_extension": ".py",
   "mimetype": "text/x-python",
   "name": "python",
   "nbconvert_exporter": "python",
   "pygments_lexer": "ipython3",
   "version": "3.7.3"
  }
 },
 "nbformat": 4,
 "nbformat_minor": 2
}